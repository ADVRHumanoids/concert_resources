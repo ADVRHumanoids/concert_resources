{
 "cells": [
  {
   "cell_type": "markdown",
   "id": "7a6fa4e6-a5c3-409c-bd40-d27daba702fb",
   "metadata": {},
   "source": [
    "# Optimize a modular robot for drilling\n",
    "\n",
    "In this tutorial we will:\n",
    "- Define a drilling task\n",
    "- See how a standard CONCERT robot configuration solves this task\n",
    "- Use a Genetic Algorithm to find a suitable but smaller robot to perform the same task\n",
    "- Visualize our results\n",
    "\n",
    "We start by **defining a drilling task**. For that purpose, we use a BIM model of the Fraunhofer Bolzano Cran Hall that was parsed to .stl.\n",
    "\n",
    "Again, we use Timor on a development branch. For information on the setup, check the viz_demo notebook."
   ]
  },
  {
   "cell_type": "code",
   "execution_count": null,
   "id": "0e4eab53-1904-4daa-a04f-de2287bb4627",
   "metadata": {},
   "outputs": [],
   "source": [
    "# The meshcat visualizer does sometimes not terminate properly. You can kill all local processes with \"meshcat\" in there name by runnning this cell.\n",
    "! pkill -f meshcat"
   ]
  },
  {
   "cell_type": "code",
   "execution_count": null,
   "id": "adb2f36d-7af9-486a-8d2f-42e0a8f0d7ca",
   "metadata": {},
   "outputs": [],
   "source": [
    "from datetime import datetime\n",
    "import json\n",
    "from pathlib import Path\n",
    "import os\n",
    "from time import time\n",
    "\n",
    "concert_folder = Path(os.path.abspath(\"\")).parent\n",
    "crane_hall_path = Path(os.path.abspath(\"\")).joinpath('assets/Crane_Hall_V10.stl')\n",
    "jsons = concert_folder.joinpath('json/concert/')"
   ]
  },
  {
   "cell_type": "code",
   "execution_count": null,
   "id": "3b5d0135-c816-4fb3-8170-b027e8cf89ec",
   "metadata": {},
   "outputs": [],
   "source": [
    "import numpy as np\n",
    "from pinocchio.visualize import MeshcatVisualizer\n",
    "\n",
    "from timor import AtomicModule, Geometry, ModuleAssembly, ModulesDB, Obstacle, Task, Tolerance, Transformation\n",
    "from timor.task.Goals import At, Follow\n",
    "from timor.utilities import logging, spatial, visualization\n",
    "from timor.utilities.tolerated_pose import ToleratedPose\n",
    "from timor.utilities.trajectory import Trajectory"
   ]
  },
  {
   "cell_type": "code",
   "execution_count": null,
   "id": "8882b5b4-b82f-4043-bd92-5c9a5cd93d2b",
   "metadata": {},
   "outputs": [],
   "source": [
    "crane_hall = Obstacle.Obstacle(\n",
    "    \"crane_hall\",\n",
    "    collision=Geometry.Mesh(\n",
    "        parameters={'package_dir': concert_folder, 'file': crane_hall_path, 'scale': 0.001},\n",
    "        pose=Transformation.neutral()\n",
    "    ),\n",
    "    visual=None  # Defaults to collision\n",
    ")"
   ]
  },
  {
   "cell_type": "code",
   "execution_count": null,
   "id": "850190ef-9f19-41ef-b0b4-a7a7884238b6",
   "metadata": {},
   "outputs": [],
   "source": [
    "%%capture\n",
    "header = dict(\n",
    "    ID='CONCERT_demo',\n",
    "    version=\"2023\",\n",
    "    taskName=\"Crane Hall Drilling Demo\",\n",
    "    tags=[\"trajectory\", \"CONCERT\"],\n",
    "    date=datetime(2023, 3, 7),  # This was written in the IIT hosted integration week\n",
    "    author=[\"Jonathan Külz\", \"Matthias Mayer\"],\n",
    "    email=[\"jonathan.kuelz@tum.de\", \"matthias.mayer@tum.de\"],\n",
    "    affiliation=[\"TUM\"]\n",
    ")\n",
    "task = Task.Task(\n",
    "    header=header,\n",
    "    obstacles=[crane_hall],\n",
    "    goals=None,\n",
    "    constraints=None\n",
    ")"
   ]
  },
  {
   "cell_type": "markdown",
   "id": "a8542b7b-8ed8-48d8-aa08-b23216901b13",
   "metadata": {},
   "source": [
    "So far, we have only defined the environment. It is still open what kind of goals we want to achieve.\n",
    "\n",
    "For CONCERT, modular robots should be used in a construction site environment. We start by defining two different trajectories that reassemble a drilling motion."
   ]
  },
  {
   "cell_type": "code",
   "execution_count": null,
   "id": "dd62614d-7a42-48e3-a5de-0025e646990f",
   "metadata": {},
   "outputs": [],
   "source": [
    "drill_tolerance = Tolerance.CartesianXYZ.default() + Tolerance.RotationAxisAngle(n_x=(-0.01, 0.01), n_y=(-0.01, 0.01), n_z=(-1, 1), theta_r=(0, np.pi))\n",
    "def drilling_trajectory(initial_pose: Transformation) -> Trajectory:\n",
    "    \"\"\"We write a little helper function to create a desired drilling trajectory based on a starting position\"\"\"\n",
    "    drilling_offset = Transformation.from_translation((0, 0, .2))  # Drilling for 20cm\n",
    "    poses = [initial_pose.interpolate(initial_pose @ drilling_offset, i / 100) for i in range(100)]\n",
    "    with_tolerances = [ToleratedPose(p, tolerance=drill_tolerance) for p in poses]\n",
    "    return Trajectory(pose=np.array(with_tolerances))\n",
    "\n",
    "first_position = Transformation.from_roto_translation(spatial.rotX(-np.pi / 2)[:3, :3], (0, 5.7, 1.5))  # That is a position on the hall's wall\n",
    "second_position = Transformation.from_roto_translation(spatial.rotX(-np.pi / 2)[:3, :3], (2.5, 5.7, 1.5))  # That another position on the hall's wall\n",
    "\n",
    "T_one = drilling_trajectory(first_position)\n",
    "T_two = drilling_trajectory(second_position)"
   ]
  },
  {
   "cell_type": "markdown",
   "id": "89dfe310-44e5-4ef0-bc6b-7230dcbc9a36",
   "metadata": {},
   "source": [
    "Have a look at the interactive task visualization:"
   ]
  },
  {
   "cell_type": "code",
   "execution_count": null,
   "id": "7797fba1-078d-4c64-a7f7-56ffc5e59e49",
   "metadata": {},
   "outputs": [],
   "source": [
    "task = Task.Task(\n",
    "    header=header,\n",
    "    obstacles=[crane_hall],\n",
    "    goals=[\n",
    "        Follow('1', T_one),\n",
    "        Follow('2', T_two)\n",
    "    ],\n",
    "    constraints=None\n",
    ")\n",
    "\n",
    "task_viz = MeshcatVisualizer()\n",
    "task_viz.initViewer()\n",
    "task_viz = task.visualize(task_viz)\n",
    "# You can also invoke a local visualization using: task_viz.viewer.jupyter_cell()"
   ]
  },
  {
   "cell_type": "markdown",
   "id": "547b9a12-5d56-4161-990a-23486035dabc",
   "metadata": {},
   "source": [
    "## Load the modules\n",
    "\n",
    "We can now start placing a robot in the environment and solving the task with that robot. Note that, for the sake of efficiency, we are using a simplified version of the CONCERT platform. First, let's load all the modules and make create a typical assembly."
   ]
  },
  {
   "cell_type": "code",
   "execution_count": null,
   "id": "487f681e-e211-4153-846f-71eed32726d0",
   "metadata": {},
   "outputs": [],
   "source": [
    "colors = {}  # A little hack because Timor does not support body colors natively\n",
    "db = ModulesDB()  # We are gonna parse them one by one\n",
    "for f in jsons.iterdir():\n",
    "    m, c = AtomicModule.from_concert_specification(json.loads(f.open('rb').read()), concert_folder.parent)\n",
    "    db.add(m)\n",
    "    colors[m.id] = c\n",
    "\n",
    "classic_assembly = ModuleAssembly.from_serial_modules(db, ('23_planar', '14', '16', '14', '16', '14', '16'))\n",
    "visualization.color_visualization(task_viz, classic_assembly, colors)  # You can check the task visualization: The robot is now included there"
   ]
  },
  {
   "cell_type": "markdown",
   "id": "f0d0ccc2-042d-41ce-8f1a-8db35946bc13",
   "metadata": {},
   "source": [
    "## Task solving capabilities\n",
    "\n",
    "We need to do path planning and collision checks in order to solve this task. For this demo, we only perform very simple checks -- those capabilities exist but are currently still subject to optimization, so a final version will be included towards the end of the CONCERT project. For now, a couple of simple solution capabilities will suffice:"
   ]
  },
  {
   "cell_type": "code",
   "execution_count": null,
   "id": "8031b899-6fea-4777-a18e-cb2a680d513c",
   "metadata": {},
   "outputs": [],
   "source": [
    "logging.setLevel('DEBUG')  # If not, we will be flooded by the ik solver\n",
    "def find_follow_configuration(assembly: ModuleAssembly, goal: Follow, task: Task) -> Trajectory:\n",
    "    \"\"\"\n",
    "    A simple solver that moves the assembly to a goal position, performs a drilling motion (without environment collision checks) and moves the assembly back to start.\n",
    "    \n",
    "    :param assembly: A module assembly\n",
    "    :param goal: A drilling goal\n",
    "    \"\"\"\n",
    "    desired = goal.trajectory.pose\n",
    "\n",
    "    place_base = np.zeros(assembly.robot.njoints)\n",
    "    place_base[:3] = [desired[0].nominal.translation[0], desired[0].nominal.translation[1] - 0.9, np.pi / 2]\n",
    "    start = desired[0]\n",
    "    joint_mask = np.ones((assembly.robot.njoints,))\n",
    "    joint_mask[0] = 0\n",
    "    joint_mask[2] = 0\n",
    "    q_0, success = assembly.robot.ik(start, task=task, q_init=place_base, joint_mask=joint_mask)\n",
    "    if not success:\n",
    "        return\n",
    "    q = [q_0]\n",
    "    for i, p in enumerate(goal.trajectory.pose[1:]):\n",
    "        _q, success = assembly.robot.ik(p, q_init=assembly.robot.configuration, joint_mask=joint_mask)\n",
    "        if not success:\n",
    "            assembly.robot.update_configuration(_q)\n",
    "            return\n",
    "        q.append(_q)\n",
    "    ret = Trajectory(q=q)\n",
    "    return ret + ret[::-1]"
   ]
  },
  {
   "cell_type": "code",
   "execution_count": null,
   "id": "fa9df269-956c-4f03-a90f-36e2879b3f94",
   "metadata": {},
   "outputs": [],
   "source": [
    "def get_task_trajectories(assembly, task) -> tuple[list[Trajectory], bool]:\n",
    "    \"\"\"\n",
    "    Loops over goals in the task and tries to find trajectories to solve them.\n",
    "    \n",
    "    Returns a tuple with (1) A list of trajectories that solve the goals and (2) A boolean indicator whether all goals could be achieved\n",
    "    \"\"\"\n",
    "    ret = list()\n",
    "    for goal in task.goals:\n",
    "        t = find_follow_configuration(assembly, goal, task)\n",
    "        if t is None:\n",
    "            return ret, False\n",
    "        ret.append(t)\n",
    "    return ret, True"
   ]
  },
  {
   "cell_type": "code",
   "execution_count": null,
   "id": "42bc9408-00ae-4025-a7c3-fab0beba7506",
   "metadata": {},
   "outputs": [],
   "source": [
    "def make_solution_trajectory(t1, t2, assembly):\n",
    "    \"\"\"This only works for this specific task!\"\"\"\n",
    "    p_inter = assembly.robot.fk(t1.q[-1]) @ Transformation.from_translation([ second_position.translation[0] / 2, 0, -2])\n",
    "    mask = np.zeros((assembly.robot.njoints,))\n",
    "    mask[:2] = 1\n",
    "    q_inter, suc = assembly.robot.ik(ToleratedPose(p_inter), q_init=t1.q[-1], joint_mask=mask)\n",
    "    assert suc\n",
    "\n",
    "    neutral = np.zeros((assembly.robot.njoints,))\n",
    "    t_start = Trajectory(q=np.linspace(neutral, t1.q[0], 400))\n",
    "    t_inter = Trajectory(q=np.vstack([\n",
    "        np.linspace(t1.q[-1], q_inter, 200),\n",
    "        np.linspace(q_inter, t2.q[0], 200)\n",
    "    ]))\n",
    "    t_end = Trajectory(q=np.linspace(t2.q[-1], neutral, 500))\n",
    "    \n",
    "    return t_start + t1 + t_inter + t2 + t_end"
   ]
  },
  {
   "cell_type": "code",
   "execution_count": null,
   "id": "43528457-0fef-4bb6-b23c-f5b853c86dee",
   "metadata": {},
   "outputs": [],
   "source": [
    "(t1, t2), suc = get_task_trajectories(classic_assembly, task)\n",
    "T = make_solution_trajectory(t1, t2, classic_assembly)\n",
    "\n",
    "visualization.animation(classic_assembly.robot, T.q, .01, task_viz)"
   ]
  },
  {
   "cell_type": "markdown",
   "id": "d9372781-f27c-4a17-8519-30bc105586bf",
   "metadata": {},
   "source": [
    "# Now, let's optimize the Assembly instead of taking a predefined one\n",
    "\n",
    "The flexibility of modular robots allows us to tailor our robot to whatever task we have to deal with. The goal of CONCERT WP2.4 was to develop an automatic assembly optimizer -- Timor serves as such.\n",
    "\n",
    "As we mostly optimize for kinematics, we will deal with a subset of modules only that capture all kinematic capabilities of the CONCERT modules without introducing duplicity. Also, we only consider our simplified base model that can \"float\" accross the floor."
   ]
  },
  {
   "cell_type": "code",
   "execution_count": null,
   "id": "1ab5fbf8-f19d-48b8-89e8-9658b3a95a7c",
   "metadata": {},
   "outputs": [],
   "source": [
    "names_for_optim = ('concert_elbow_joint_A', 'concert_yaw_joint_A', 'concert_link_straight_10', 'concert_link_straight_20', 'concert_link_straight_50', 'concert_mobile_platform_simplified')\n",
    "modules = ModulesDB(mod for mod in db if mod.name in names_for_optim)\n",
    "print(\"There are {} modules which will be used to create an optimized assembly\".format(len(modules)))"
   ]
  },
  {
   "cell_type": "markdown",
   "id": "01a82883-faef-43b9-b829-0acf4979a87f",
   "metadata": {},
   "source": [
    "In the next field, we will define the heart of a genetic optimizer:\n",
    "- We use the PyGAD library for a GA implementation\n",
    "- The hyperparameters have been retrieved running an optimization with optuna\n",
    "- We can optimize for an arbitrary fitness funciton. Here we just take the mass of the robot arm as a proxy for real-world part cost (combined with a fitness value for the capability to solve the task)"
   ]
  },
  {
   "cell_type": "code",
   "execution_count": null,
   "id": "15c070c9-0bc8-4822-bdb8-4d238563a146",
   "metadata": {
    "tags": []
   },
   "outputs": [],
   "source": [
    "import itertools\n",
    "import pygad\n",
    "import random\n",
    "\n",
    "from timor.utilities import module_classification\n",
    "\n",
    "\n",
    "def ga_optimize(db, task):\n",
    "    hyperparameters = {\n",
    "        'population_size': 50,\n",
    "        'num_generations': 32,\n",
    "        'mutation_probability': 0.237,\n",
    "        'num_parents_mating': 5,\n",
    "        'keep_parents': 4,\n",
    "        'crossover_type': 'single_point',\n",
    "        'keep_elitism': 5,\n",
    "        'save_solutions': True\n",
    "    }\n",
    "    \n",
    "    bases, links, joints, eefs = map(lambda DB: sorted(DB, key=lambda m: m.id), module_classification.divide_db_in_types(db, strict=False))    \n",
    "    link_ids = tuple(m.id for m in links)\n",
    "    joint_ids = tuple(m.id for m in joints)\n",
    "    \n",
    "    num2id = {i: m.id for i, m in zip(range(1, len(db) + 1), itertools.chain(bases, eefs, joints, links))}\n",
    "    id2num = {ID: i for i, ID in num2id.items()}\n",
    "    id2num['000'] = 0  # this encodes the \"no module\" option\n",
    "    \n",
    "    def get_gene_space(genome: str) -> list[int]:\n",
    "        \"\"\"Maps L: link or nothing and J: joint or nothing\"\"\"\n",
    "        return [v for v in id2num.values() if v != 0 and num2id[v] not in (b.id for b in bases)]  # TODO: This is a hack and should eventually be removed\n",
    "        if genome == 'L':\n",
    "            return [0] + list(map(id2num.get, link_ids))\n",
    "        elif genome == 'J':\n",
    "            return [0] + list(map(id2num.get, joint_ids))\n",
    "    \n",
    "    def fitness_func(solution, solution_idx) -> float:\n",
    "        solution = [1] + [i for i in solution if i != 0] # + [2]  # add B and E\n",
    "        robot = map(num2id.get, solution)\n",
    "        solution = ModuleAssembly.from_serial_modules(db, robot)\n",
    "        results, suc = get_task_trajectories(solution, task)\n",
    "        \n",
    "        mass_arm = solution.mass - 127.57599\n",
    "        mass_fitness = 10 / mass_arm\n",
    "        \n",
    "        if len(results) > 2:\n",
    "            return len(results)\n",
    "        \n",
    "        return len(results) + mass_fitness\n",
    "    \n",
    "    J = id2num[joint_ids[0]]\n",
    "    L = lambda: id2num[random.choice(link_ids + ('000',))]\n",
    "\n",
    "    genes = 'L-J-L-J-L-J-L-J-L-J-L-J-L-L'.split('-')\n",
    "    def make_random(gene_encoding):\n",
    "        if gene_encoding == 'L':\n",
    "            return L()\n",
    "        elif gene_encoding == 'J':\n",
    "            return J\n",
    "        raise ValueError()\n",
    "        \n",
    "    initial_population = [  # Create a couple random solutions that do have modules at all positions\n",
    "        [make_random(g) for g in genes] for _ in range(hyperparameters.pop('population_size'))\n",
    "    ]\n",
    "    \n",
    "    last_fitness = 0\n",
    "    def callback_generation(ga_instance):\n",
    "        nonlocal last_fitness\n",
    "        if ga_instance.generations_completed % 4 != 0 and ga_instance.generations_completed != 1:\n",
    "            return\n",
    "        print(\"Generation = {generation}\".format(generation=ga_instance.generations_completed))\n",
    "        print(\"Fitness    = {fitness}\".format(fitness=ga_instance.best_solution()[1]))\n",
    "        print(\"Change     = {change}\".format(change=ga_instance.best_solution()[1] - last_fitness))\n",
    "        print('---\\n')\n",
    "        last_fitness = ga_instance.best_solution()[1]\n",
    "\n",
    "    ga_instance = pygad.GA(\n",
    "        num_genes=len(initial_population[0]),\n",
    "        fitness_func=fitness_func,\n",
    "        gene_space=[get_gene_space(g) for g in genes],\n",
    "        gene_type=int,\n",
    "        initial_population=initial_population,\n",
    "        on_generation=callback_generation,\n",
    "        **hyperparameters\n",
    "    )\n",
    "    \n",
    "    try:\n",
    "        ga_instance.run()\n",
    "    except Exception as exe:\n",
    "        print(exe)\n",
    "        raise exe\n",
    "\n",
    "    return ga_instance"
   ]
  },
  {
   "cell_type": "code",
   "execution_count": null,
   "id": "75ed4ac8-36a1-434a-a87d-5d06480e6d25",
   "metadata": {
    "tags": []
   },
   "outputs": [],
   "source": [
    "# This runs the actual optimization\n",
    "print(f\"The classical assembly has a fitness value of: {2 + 10 / (classic_assembly.mass - 127.57599):.3f} (higher is better)\")\n",
    "t0 = time()\n",
    "optimizer = ga_optimize(modules, task)\n",
    "t1 = time()\n",
    "print(f\"The optimization took {t1 - t0:.0f}s, which is {(t1 - t0) / optimizer.generations_completed:.2f}s/generation\")"
   ]
  },
  {
   "cell_type": "markdown",
   "id": "9abd3674-f3b3-47d3-82d1-fe787df42c62",
   "metadata": {},
   "source": [
    "You can see the optimization history above. The plot below provides a visual interface to the fitness history."
   ]
  },
  {
   "cell_type": "code",
   "execution_count": null,
   "id": "ebafd171-7e5a-4d22-994e-5496a34561dd",
   "metadata": {},
   "outputs": [],
   "source": [
    "fig = optimizer.plot_fitness()"
   ]
  },
  {
   "cell_type": "markdown",
   "id": "bbd8bc41-28e1-4eb4-bd5d-f9df7e9d0114",
   "metadata": {},
   "source": [
    "Of course a good visualization helps interpreting the results. Let's see how the new solution, optimized for a small mass, looks like:"
   ]
  },
  {
   "cell_type": "code",
   "execution_count": null,
   "id": "b726dcdf-54e0-43f3-8f86-b0b8ea70ef64",
   "metadata": {},
   "outputs": [],
   "source": [
    "bases, links, joints, eefs = map(lambda DB: sorted(DB, key=lambda m: m.id), module_classification.divide_db_in_types(modules, strict=False))\n",
    "num2id = {i: m.id for i, m in zip(range(1, len(modules) + 1), itertools.chain(bases, eefs, joints, links))}\n",
    "id2num = {ID: i for i, ID in num2id.items()}\n",
    "id2num['000'] = 0  # this encodes the \"no module\" option\n",
    "best_as_chain = [bases[0].id] + [num2id[m] for m in optimizer.best_solution()[0] if m != 0]\n",
    "\n",
    "best_assembly = ModuleAssembly.from_serial_modules(modules, best_as_chain)\n",
    "(t1, t2), suc = get_task_trajectories(best_assembly, task)\n",
    "T = make_solution_trajectory(t1, t2, best_assembly)"
   ]
  },
  {
   "cell_type": "code",
   "execution_count": null,
   "id": "b54ffe42-0735-4e11-b719-ef3eb6848eca",
   "metadata": {},
   "outputs": [],
   "source": [
    "optimize_viz = MeshcatVisualizer()\n",
    "optimize_viz.initViewer()\n",
    "optimize_viz = task.visualize(optimize_viz)"
   ]
  },
  {
   "cell_type": "code",
   "execution_count": null,
   "id": "f080cbcf-48de-40c9-baf2-4417c1ce2f35",
   "metadata": {},
   "outputs": [],
   "source": [
    "visualization.color_visualization(optimize_viz, best_assembly, colors)\n",
    "visualization.animation(best_assembly.robot, T.q, .01, optimize_viz)"
   ]
  },
  {
   "cell_type": "code",
   "execution_count": null,
   "id": "c3fa09d0-a503-4e53-bc0e-78653c2dd969",
   "metadata": {},
   "outputs": [],
   "source": []
  }
 ],
 "metadata": {
  "kernelspec": {
   "display_name": "Python 3 (ipykernel)",
   "language": "python",
   "name": "python3"
  },
  "language_info": {
   "codemirror_mode": {
    "name": "ipython",
    "version": 3
   },
   "file_extension": ".py",
   "mimetype": "text/x-python",
   "name": "python",
   "nbconvert_exporter": "python",
   "pygments_lexer": "ipython3",
   "version": "3.9.13"
  }
 },
 "nbformat": 4,
 "nbformat_minor": 5
}
